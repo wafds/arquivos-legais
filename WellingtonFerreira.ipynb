{
  "nbformat": 4,
  "nbformat_minor": 0,
  "metadata": {
    "colab": {
      "provenance": [],
      "authorship_tag": "ABX9TyPg15FBxBD8LJDiyWPn4E/8",
      "include_colab_link": true
    },
    "kernelspec": {
      "name": "python3",
      "display_name": "Python 3"
    },
    "language_info": {
      "name": "python"
    }
  },
  "cells": [
    {
      "cell_type": "markdown",
      "metadata": {
        "id": "view-in-github",
        "colab_type": "text"
      },
      "source": [
        "<a href=\"https://colab.research.google.com/github/wafds/arquivos-legais/blob/main/WellingtonFerreira.ipynb\" target=\"_parent\"><img src=\"https://colab.research.google.com/assets/colab-badge.svg\" alt=\"Open In Colab\"/></a>"
      ]
    },
    {
      "cell_type": "code",
      "execution_count": null,
      "metadata": {
        "id": "bUvgZI6llSz4"
      },
      "outputs": [],
      "source": [
        "lista_nome = ['Jeron', 'Natalia', 'Willian', 'Wellington ', 'Andreia', 'Eder', 'Germana', 'Glauber', 'Marlon']\n",
        "lista_idade = [33, 32, 43, 43, 37, 32, 38, 20, 22]\n",
        "\n",
        "\n"
      ]
    },
    {
      "cell_type": "code",
      "source": [
        "for nome, idade in zip(lista_nome,lista_idade):\n",
        "  print(nome, idade) \n"
      ],
      "metadata": {
        "colab": {
          "base_uri": "https://localhost:8080/"
        },
        "id": "Qq-giKpLoCoY",
        "outputId": "69182940-852f-4db4-c6a6-fcfb0723fa67"
      },
      "execution_count": null,
      "outputs": [
        {
          "output_type": "stream",
          "name": "stdout",
          "text": [
            "Jeron 33\n",
            "Natalia 32\n",
            "Willian 43\n",
            "Wellington  43\n",
            "Andreia 37\n",
            "Eder 32\n",
            "Germana 38\n",
            "Glauber 20\n",
            "Marlon 22\n"
          ]
        }
      ]
    },
    {
      "cell_type": "code",
      "source": [
        "import numpy as np\n",
        "import matplotlib.pyplot as plt\n",
        "\n",
        "plt.Figure(figsize=(60,40))\n",
        "\n",
        "plt.title('Nomes e idades dos alunos')\n",
        "plt.bar(lista_nome, lista_idade)"
      ],
      "metadata": {
        "colab": {
          "base_uri": "https://localhost:8080/",
          "height": 298
        },
        "id": "jXR4XA0WrNtZ",
        "outputId": "35a6aff6-059a-46bc-c221-1a1d2a231c07"
      },
      "execution_count": null,
      "outputs": [
        {
          "output_type": "execute_result",
          "data": {
            "text/plain": [
              "<BarContainer object of 9 artists>"
            ]
          },
          "metadata": {},
          "execution_count": 24
        },
        {
          "output_type": "display_data",
          "data": {
            "text/plain": [
              "<Figure size 432x288 with 1 Axes>"
            ],
            "image/png": "[encoded data removed]"
          },
          "metadata": {
            "needs_background": "light"
          }
        }
      ]
    },
    {
      "cell_type": "code",
      "source": [
        "lista_salario = [15, 20, 10, 15, 5, 20, 10 , 27, 10]"
      ],
      "metadata": {
        "id": "_IyDY-YzrNfC"
      },
      "execution_count": null,
      "outputs": []
    },
    {
      "cell_type": "code",
      "source": [
        "for nome, sal in zip(lista_nome,lista_salario):\n",
        "  print(nome, sal) "
      ],
      "metadata": {
        "colab": {
          "base_uri": "https://localhost:8080/"
        },
        "id": "J8CYToINuA0L",
        "outputId": "6b3c4967-efb8-4f78-e119-4dcc9450f6a4"
      },
      "execution_count": null,
      "outputs": [
        {
          "output_type": "stream",
          "name": "stdout",
          "text": [
            "Jeron 15\n",
            "Natalia 20\n",
            "Willian 10\n",
            "Wellington  15\n",
            "Andreia 5\n",
            "Eder 20\n",
            "Germana 10\n",
            "Glauber 27\n",
            "Marlon 10\n"
          ]
        }
      ]
    },
    {
      "cell_type": "code",
      "source": [
        "import numpy as np\n",
        "import matplotlib.pyplot as plt\n",
        "\n",
        "plt.Figure(figsize=(60,40))\n",
        "\n",
        "plt.title('Salario pretendido')\n",
        "plt.bar(lista_nome, lista_salario)"
      ],
      "metadata": {
        "colab": {
          "base_uri": "https://localhost:8080/",
          "height": 298
        },
        "id": "tcL_Rz9VuHke",
        "outputId": "5fce24a0-783b-4af8-c963-b340237c0c36"
      },
      "execution_count": null,
      "outputs": [
        {
          "output_type": "execute_result",
          "data": {
            "text/plain": [
              "<BarContainer object of 9 artists>"
            ]
          },
          "metadata": {},
          "execution_count": 27
        },
        {
          "output_type": "display_data",
          "data": {
            "text/plain": [
              "<Figure size 432x288 with 1 Axes>"
            ],
            "image/png": "[encoded data removed]"
          },
          "metadata": {
            "needs_background": "light"
          }
        }
      ]
    },
    {
      "cell_type": "code",
      "source": [
        "media_idade = np.median(lista_idade)\n",
        "print(media_idade)"
      ],
      "metadata": {
        "colab": {
          "base_uri": "https://localhost:8080/"
        },
        "id": "pJidEXoqukv_",
        "outputId": "c83343b4-3674-4366-8046-e7be76075aa0"
      },
      "execution_count": null,
      "outputs": [
        {
          "output_type": "stream",
          "name": "stdout",
          "text": [
            "33.0\n"
          ]
        }
      ]
    },
    {
      "cell_type": "code",
      "source": [
        "media_salario = np.median(lista_salario)\n",
        "print(media_salario)\n",
        "\n"
      ],
      "metadata": {
        "colab": {
          "base_uri": "https://localhost:8080/"
        },
        "id": "quF5_aCRvEwI",
        "outputId": "290402eb-22ca-4953-8a4e-2bba28e68fc9"
      },
      "execution_count": null,
      "outputs": [
        {
          "output_type": "stream",
          "name": "stdout",
          "text": [
            "15.0\n"
          ]
        }
      ]
    }
  ]
}